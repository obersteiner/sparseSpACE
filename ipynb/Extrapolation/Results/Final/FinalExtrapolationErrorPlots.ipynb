{
 "cells": [
  {
   "cell_type": "code",
   "execution_count": null,
   "outputs": [],
   "source": [
    "import sparseSpACE\n",
    "from sparseSpACE.PerformTestCase import PlotTestCase\n",
    "colormap = {\n",
    "    \"Gauss-Legendre Grid (Standard Combi) lmin=1\": \"tab:gray\",\n",
    "    \"Gauss-Legendre Grid (Standard Combi) lmin=2\": \"silver\",\n",
    "    \"Trapezoidal Grid (Standard Combi) lmin=1\": \"violet\",\n",
    "    \"Trapezoidal Grid (Standard Combi) lmin=2\": \"mediumpurple\",\n",
    "    \"Trapezoidal Grid\": \"red\",\n",
    "    \"Trapezoidal Grid (Rebalancing)\": \"royalblue\",\n",
    "    \"HighOrder Grid\": \"slategrey\",\n",
    "    \"Simpson Grid (Balanced)\": \"lightgreen\",\n",
    "    \"Balanced Extrapolation Grid\": \"blue\",\n",
    "    \"Extrapolation Grid (Unit, Romberg, Default Romberg)\": \"darkorange\",\n",
    "    \"Extrapolation Grid (Unit, Romberg, Default Romberg, Balanced)\": \"lime\",\n",
    "    \"Extrapolation Grid (Grouped, Romberg, Default Romberg)\": \"lightseagreen\",\n",
    "    \"Extrapolation Grid (Grouped, Romberg, Default Romberg, Balanced)\": \"purple\",\n",
    "    \"Extrapolation Grid (Grouped, Trapezoid, Default Romberg)\": \"gold\",\n",
    "    \"Extrapolation Grid (Grouped, Trapezoid, Default Romberg, Balanced)\": \"lightskyblue\",\n",
    "    \"Extrapolation Grid (Grouped Optimized, Romberg, Default Romberg)\": \"deeppink\",\n",
    "    \"Extrapolation Grid (Grouped Optimized, Romberg, Default Romberg, Balanced)\": \"forestgreen\",\n",
    "    \"Extrapolation Grid (Grouped Optimized, Trapezoid, Romberg, Balanced)\": \"tab:gray\",\n",
    "    \"Extrapolation Grid (Grouped Optimized, Romberg, Lagrange Romberg)\": \"indigo\",\n",
    "    \"Extrapolation Grid (Grouped Optimized, Romberg, Lagrange Full Romberg)\": \"darkkhaki\",\n",
    "    \"Extrapolation Grid (Grouped Optimized, Romberg, Simpson Romberg, Balanced)\": \"red\",\n",
    "}\n",
    "\n",
    "line_style_map = {\n",
    "    \"Gauss-Legendre Grid (Standard Combi) lmin=1\": \"--\",\n",
    "    \"Gauss-Legendre Grid (Standard Combi) lmin=2\": \"--\",\n",
    "    \"Trapezoidal Grid (Standard Combi) lmin=1\": \"--\",\n",
    "    \"Trapezoidal Grid (Standard Combi) lmin=2\": \"--\",\n",
    "    \"Trapezoidal Grid\": \"-.\",\n",
    "    \"Trapezoidal Grid (Rebalancing)\": \"-.\",\n",
    "    \"HighOrder Grid\": \":\",\n",
    "    \"Simpson Grid (Balanced)\": \":\",\n",
    "    \"Balanced Extrapolation Grid\": \"-\",\n",
    "    \"Extrapolation Grid (Unit, Romberg, Default Romberg)\": \"-\",\n",
    "    \"Extrapolation Grid (Unit, Romberg, Default Romberg, Balanced)\": \"-\",\n",
    "    \"Extrapolation Grid (Grouped, Romberg, Default Romberg)\": \"-\",\n",
    "    \"Extrapolation Grid (Grouped, Romberg, Default Romberg, Balanced)\": \"-\",\n",
    "    \"Extrapolation Grid (Grouped, Trapezoid, Default Romberg)\": \"-\",\n",
    "    \"Extrapolation Grid (Grouped, Trapezoid, Default Romberg, Balanced)\": \"-\",\n",
    "    \"Extrapolation Grid (Grouped Optimized, Romberg, Default Romberg)\": \"-\",\n",
    "    \"Extrapolation Grid (Grouped Optimized, Romberg, Default Romberg, Balanced)\": \"-\",\n",
    "    \"Extrapolation Grid (Grouped Optimized, Trapezoid, Romberg, Balanced)\": \"-\",\n",
    "    \"Extrapolation Grid (Grouped Optimized, Romberg, Lagrange Romberg)\": \"-\",\n",
    "    \"Extrapolation Grid (Grouped Optimized, Romberg, Lagrange Full Romberg)\": \"-\",\n",
    "    \"Extrapolation Grid (Grouped Optimized, Romberg, Simpson Romberg, Balanced)\": \"-\"\n",
    "}\n",
    "\n",
    "function_names = [\n",
    "    \"FunctionExpVar\",\n",
    "    \"GenzC0\",\n",
    "    \"GenzCornerPeak\",\n",
    "    \"GenzDiscontinious\",\n",
    "    \"GenzGaussian\",\n",
    "    \"GenzOszillatory\",\n",
    "    \"GenzProductPeak\"\n",
    "]\n",
    "\n",
    "dim = 5\n",
    "directory = \"{}d/medium_hard\".format(dim)\n",
    "\n",
    "plot_test_case = PlotTestCase(colormap=colormap, line_style_map=line_style_map,\n",
    "                              import_filepath=\"../{}/\".format(directory),\n",
    "                              export_filepath=\"./{}/\".format(directory))\n"
   ],
   "metadata": {
    "collapsed": false,
    "pycharm": {
     "name": "#%%\n"
    }
   }
  },
  {
   "cell_type": "markdown",
   "source": [
    "# Full comparison"
   ],
   "metadata": {
    "collapsed": false
   }
  },
  {
   "cell_type": "code",
   "execution_count": null,
   "outputs": [],
   "source": [
    "function_names = [\n",
    "    \"FunctionExpVar\",\n",
    "    \"GenzC0\",\n",
    "    \"GenzCornerPeak\",\n",
    "    \"GenzDiscontinious\",\n",
    "    \"GenzGaussian\",\n",
    "    \"GenzOszillatory\",\n",
    "    \"GenzProductPeak\"\n",
    "]\n",
    "\n",
    "compare_algorithms = [\n",
    "    \"Gauss-Legendre Grid (Standard Combi) lmin=1\",\n",
    "    \"Gauss-Legendre Grid (Standard Combi) lmin=2\",\n",
    "    \n",
    "    \"Trapezoidal Grid (Standard Combi) lmin=1\",\n",
    "    \"Trapezoidal Grid (Standard Combi) lmin=2\",\n",
    "    \n",
    "    \"Trapezoidal Grid\",\n",
    "    \"Trapezoidal Grid (Rebalancing)\",\n",
    "\n",
    "    \"HighOrder Grid\",\n",
    "    \"Simpson Grid (Balanced)\",\n",
    "\n",
    "    \"Balanced Extrapolation Grid\",\n",
    "\n",
    "    \"Extrapolation Grid (Unit, Romberg, Default Romberg)\",\n",
    "    \"Extrapolation Grid (Unit, Romberg, Default Romberg, Balanced)\",\n",
    "\n",
    "    \"Extrapolation Grid (Grouped, Romberg, Default Romberg)\",\n",
    "    \"Extrapolation Grid (Grouped, Romberg, Default Romberg, Balanced)\",\n",
    "\n",
    "    # \"Extrapolation Grid (Grouped, Trapezoid, Default Romberg)\",\n",
    "    # \"Extrapolation Grid (Grouped, Trapezoid, Default Romberg, Balanced)\",\n",
    "\n",
    "    \"Extrapolation Grid (Grouped Optimized, Romberg, Default Romberg)\",\n",
    "    \"Extrapolation Grid (Grouped Optimized, Romberg, Default Romberg, Balanced)\",\n",
    "    # \"Extrapolation Grid (Grouped Optimized, Trapezoid, Romberg, Balanced)\",\n",
    "\n",
    "    \"Extrapolation Grid (Grouped Optimized, Romberg, Lagrange Romberg)\",\n",
    "    \"Extrapolation Grid (Grouped Optimized, Romberg, Lagrange Full Romberg)\",\n",
    "\n",
    "    \"Extrapolation Grid (Grouped Optimized, Romberg, Simpson Romberg, Balanced)\"\n",
    "]\n",
    "\n",
    "for function_name in function_names:\n",
    "    import_filename = \"error_comparison_{}_{}d\".format(function_name, dim)\n",
    "\n",
    "    title = \"{} {}D\".format(function_name, dim) \n",
    "    plot_filename = \"error_comparison_{}_{}d\".format(function_name, dim)\n",
    "\n",
    "    plot_test_case.plot_error_approximation(import_filename,\n",
    "                                 algorithm_subset=compare_algorithms,\n",
    "                                 legend_title=None,\n",
    "                                 plot_filename=plot_filename)\n",
    "\n",
    "plot_test_case.export_legend(compare_algorithms)\n"
   ],
   "metadata": {
    "collapsed": false,
    "pycharm": {
     "name": "#%%\n"
    }
   }
  },
  {
   "cell_type": "markdown",
   "source": [
    "# Refinement tree balancing off/on "
   ],
   "metadata": {
    "collapsed": false
   }
  },
  {
   "cell_type": "code",
   "execution_count": null,
   "outputs": [],
   "source": [
    "algorithms = [\n",
    "    \"Gauss-Legendre Grid (Standard Combi) lmin=1\",\n",
    "    \"Gauss-Legendre Grid (Standard Combi) lmin=2\",\n",
    "    \n",
    "    \"Trapezoidal Grid\",\n",
    "    \"Trapezoidal Grid (Rebalancing)\",\n",
    "    \n",
    "    \"Extrapolation Grid (Unit, Romberg, Default Romberg)\",\n",
    "    \"Extrapolation Grid (Unit, Romberg, Default Romberg, Balanced)\",\n",
    "    \n",
    "    \"Extrapolation Grid (Grouped, Romberg, Default Romberg)\",\n",
    "    \"Extrapolation Grid (Grouped, Romberg, Default Romberg, Balanced)\",\n",
    "    \n",
    "    \"Extrapolation Grid (Grouped Optimized, Romberg, Default Romberg)\",\n",
    "    \"Extrapolation Grid (Grouped Optimized, Romberg, Default Romberg, Balanced)\",\n",
    "]\n",
    "export_path = \"./{}/balancing/\".format(directory)\n",
    "plot_test_case.set_export_filepath(export_path)\n",
    "\n",
    "for function_name in function_names:\n",
    "    plot_test_case.plot_error_approximation(\"error_comparison_{}_{}d\".format(function_name, dim),\n",
    "                                 algorithm_subset=algorithms,\n",
    "                                 legend_title=None,\n",
    "                                 plot_filename=\"balancing_{}_{}d\".format(function_name, dim))\n",
    "\n",
    "plot_test_case.export_legend(algorithms, filename=\"balancing_legend\")"
   ],
   "metadata": {
    "collapsed": false,
    "pycharm": {
     "name": "#%%\n"
    }
   }
  },
  {
   "cell_type": "markdown",
   "source": [
    "# Comparison of slice grouping\n",
    " \n",
    "### Balanced"
   ],
   "metadata": {
    "collapsed": false
   }
  },
  {
   "cell_type": "code",
   "execution_count": null,
   "outputs": [],
   "source": [
    "algorithms = [\n",
    "    \"Gauss-Legendre Grid (Standard Combi) lmin=1\",\n",
    "    \"Gauss-Legendre Grid (Standard Combi) lmin=2\",\n",
    "      \n",
    "    \"Trapezoidal Grid\",\n",
    "    \"Trapezoidal Grid (Rebalancing)\",\n",
    "      \n",
    "    \"Extrapolation Grid (Unit, Romberg, Default Romberg, Balanced)\",\n",
    "    \n",
    "    \"Extrapolation Grid (Grouped, Romberg, Default Romberg, Balanced)\",\n",
    "    \n",
    "    \"Extrapolation Grid (Grouped Optimized, Romberg, Default Romberg, Balanced)\",\n",
    "]\n",
    "export_path = \"./{}/grouping/\".format(directory)\n",
    "plot_test_case.set_export_filepath(export_path)\n",
    "\n",
    "for function_name in function_names:\n",
    "    plot_test_case.plot_error_approximation(\"error_comparison_{}_5d\".format(function_name),\n",
    "                                 algorithm_subset=algorithms,\n",
    "                                 legend_title=None,\n",
    "                                 plot_filename=\"balanced_grouping_{}_5d\".format(function_name))\n",
    "\n",
    "plot_test_case.export_legend(algorithms, filename=\"balanced_grouping_legend\")"
   ],
   "metadata": {
    "collapsed": false,
    "pycharm": {
     "name": "#%%\n"
    }
   }
  },
  {
   "cell_type": "markdown",
   "source": [
    "### Unbalanced "
   ],
   "metadata": {
    "collapsed": false
   }
  },
  {
   "cell_type": "code",
   "execution_count": null,
   "outputs": [],
   "source": [
    "export_path = \"./{}/grouping/\".format(directory)\n",
    "plot_test_case.set_export_filepath(export_path)\n",
    "\n",
    "for function_name in function_names:\n",
    "    plot_test_case.plot_error_approximation(\"error_comparison_{}_5d\".format(function_name),\n",
    "                                 algorithm_subset=[\n",
    "                                   \"Gauss-Legendre Grid (Standard Combi) lmin=1\",\n",
    "                                   \"Gauss-Legendre Grid (Standard Combi) lmin=2\",\n",
    "\n",
    "                                   \"Trapezoidal Grid\",\n",
    "                                   \"Trapezoidal Grid (Rebalancing)\",\n",
    "\n",
    "                                   \"Extrapolation Grid (Unit, Romberg, Default Romberg)\",\n",
    "\n",
    "                                   \"Extrapolation Grid (Grouped, Romberg, Default Romberg)\",\n",
    "\n",
    "                                   \"Extrapolation Grid (Grouped Optimized, Romberg, Default Romberg)\",\n",
    "                                 ],\n",
    "                                 legend_title=\"{} 5D\".format(function_name),\n",
    "                                 plot_filename=\"unbalanced_grouping_{}_5d\".format(function_name))"
   ],
   "metadata": {
    "collapsed": false,
    "pycharm": {
     "name": "#%%\n"
    }
   }
  },
  {
   "cell_type": "markdown",
   "source": [
    "# Interpolation: Full grid vs. adaptive"
   ],
   "metadata": {
    "collapsed": false
   }
  },
  {
   "cell_type": "code",
   "execution_count": null,
   "outputs": [],
   "source": [
    "algorithms = [\n",
    "    \"Gauss-Legendre Grid (Standard Combi) lmin=1\",\n",
    "    \"Gauss-Legendre Grid (Standard Combi) lmin=2\",\n",
    "      \n",
    "    \"Trapezoidal Grid\",\n",
    "    \"Trapezoidal Grid (Rebalancing)\",\n",
    "    \"Extrapolation Grid (Grouped Optimized, Romberg, Lagrange Romberg)\",\n",
    "    \"Extrapolation Grid (Grouped Optimized, Romberg, Lagrange Full Romberg)\",\n",
    "]\n",
    "export_path = \"./{}/interpolation/\".format(directory)\n",
    "plot_test_case.set_export_filepath(export_path)\n",
    "\n",
    "for function_name in function_names:\n",
    "    plot_test_case.plot_error_approximation(\"error_comparison_{}_5d\".format(function_name),\n",
    "                                 algorithm_subset=algorithms,\n",
    "                                 legend_title=None,\n",
    "                                 plot_filename=\"lagrange_{}_5d\".format(function_name))\n",
    "    \n",
    "plot_test_case.export_legend(algorithms, filename=\"lagrange_legend\")"
   ],
   "metadata": {
    "collapsed": false,
    "pycharm": {
     "name": "#%%\n"
    }
   }
  },
  {
   "cell_type": "markdown",
   "source": [
    "# Interpolation vs. other extrapolation variants"
   ],
   "metadata": {
    "collapsed": false
   }
  },
  {
   "cell_type": "code",
   "execution_count": null,
   "outputs": [],
   "source": [
    "algorithms = [\"Gauss-Legendre Grid (Standard Combi) lmin=1\",\n",
    "              \"Gauss-Legendre Grid (Standard Combi) lmin=2\",\n",
    "    \n",
    "              \"Trapezoidal Grid\",\n",
    "              \"Trapezoidal Grid (Rebalancing)\",\n",
    "              \n",
    "              \"Extrapolation Grid (Unit, Romberg, Default Romberg, Balanced)\",\n",
    "              \"Extrapolation Grid (Grouped, Romberg, Default Romberg, Balanced)\",\n",
    "              \"Extrapolation Grid (Grouped Optimized, Romberg, Default Romberg, Balanced)\",\n",
    "                      \n",
    "              \"Extrapolation Grid (Grouped Optimized, Romberg, Lagrange Romberg)\",\n",
    "              \"Extrapolation Grid (Grouped Optimized, Romberg, Lagrange Full Romberg)\"]\n",
    "\n",
    "export_path = \"./{}/interpolation/\".format(directory)\n",
    "plot_test_case.set_export_filepath(export_path)\n",
    "\n",
    "for function_name in function_names:\n",
    "    plot_test_case.plot_error_approximation(\"error_comparison_{}_5d\".format(function_name),\n",
    "                  algorithm_subset=algorithms,\n",
    "                  legend_title=None,\n",
    "                  plot_filename=\"comparison_{}_5d\".format(function_name))\n",
    "    \n",
    "plot_test_case.export_legend(algorithms, filename=\"comparison_legend\")"
   ],
   "metadata": {
    "collapsed": false,
    "pycharm": {
     "name": "#%%\n"
    }
   }
  },
  {
   "cell_type": "markdown",
   "source": [
    "# Impact of unit slice extrapolation"
   ],
   "metadata": {
    "collapsed": false
   }
  },
  {
   "cell_type": "code",
   "execution_count": null,
   "outputs": [],
   "source": [
    "algorithms = [\n",
    "    \"Gauss-Legendre Grid (Standard Combi) lmin=1\",\n",
    "    \"Gauss-Legendre Grid (Standard Combi) lmin=2\",\n",
    "      \n",
    "    \"Trapezoidal Grid\",\n",
    "    \"Trapezoidal Grid (Rebalancing)\",\n",
    "    \"Extrapolation Grid (Grouped Optimized, Romberg, Default Romberg, Balanced)\",\n",
    "    \"Extrapolation Grid (Grouped Optimized, Trapezoid, Romberg, Balanced)\"\n",
    "]\n",
    "export_path = \"./{}/slices/\".format(directory)\n",
    "plot_test_case.set_export_filepath(export_path)\n",
    "\n",
    "for function_name in function_names:\n",
    "    plot_test_case.plot_error_approximation(\"error_comparison_{}_5d\".format(function_name),\n",
    "                                 algorithm_subset=algorithms,\n",
    "                                 legend_title=None,\n",
    "                                 plot_filename=\"slice_version_{}_5d\".format(function_name))\n",
    "\n",
    "plot_test_case.export_legend(algorithms, filename=\"slice_version_legend\")"
   ],
   "metadata": {
    "collapsed": false,
    "pycharm": {
     "name": "#%%\n"
    }
   }
  },
  {
   "cell_type": "markdown",
   "source": [
    "# Comparison with other high order methods"
   ],
   "metadata": {
    "collapsed": false
   }
  },
  {
   "cell_type": "code",
   "execution_count": null,
   "outputs": [],
   "source": [
    "algorithms = [\n",
    "    \"Gauss-Legendre Grid (Standard Combi) lmin=1\",\n",
    "    \"Gauss-Legendre Grid (Standard Combi) lmin=2\",\n",
    "      \n",
    "    \"HighOrder Grid\",\n",
    "    \"Balanced Extrapolation Grid\",\n",
    "    \n",
    "    \"Extrapolation Grid (Unit, Romberg, Default Romberg, Balanced)\",\n",
    "    \"Extrapolation Grid (Grouped Optimized, Romberg, Default Romberg, Balanced)\",\n",
    "]\n",
    "export_path = \"./{}/high_order/\".format(directory)\n",
    "plot_test_case.set_export_filepath(export_path)\n",
    "\n",
    "for function_name in function_names:\n",
    "    plot_test_case.plot_error_approximation(\"error_comparison_{}_5d\".format(function_name),\n",
    "                                 algorithm_subset=algorithms,\n",
    "                                 legend_title=None,\n",
    "                                 plot_filename=\"high_order_{}_5d\".format(function_name))\n",
    "\n",
    "plot_test_case.export_legend(algorithms, filename=\"high_order_legend\")\n"
   ],
   "metadata": {
    "collapsed": false,
    "pycharm": {
     "name": "#%%\n"
    }
   }
  },
  {
   "cell_type": "markdown",
   "source": [
    "# Influence of the dimensionality"
   ],
   "metadata": {
    "collapsed": false
   }
  },
  {
   "cell_type": "code",
   "execution_count": null,
   "outputs": [],
   "source": [
    "function_names = [\n",
    "    # \"FunctionExpVar\",\n",
    "    \"GenzC0\",\n",
    "    # \"GenzCornerPeak\",\n",
    "    # \"GenzDiscontinious\",\n",
    "    \"GenzGaussian\",\n",
    "    \"GenzOszillatory\",\n",
    "    \"GenzProductPeak\"\n",
    "]\n",
    "\n",
    "algorithms = [\n",
    "    \"Gauss-Legendre Grid (Standard Combi) lmin=1\",\n",
    "    \"Gauss-Legendre Grid (Standard Combi) lmin=2\",\n",
    "      \n",
    "    \"Trapezoidal Grid\",\n",
    "    \"Trapezoidal Grid (Rebalancing)\",\n",
    "    \n",
    "    \"Extrapolation Grid (Unit, Romberg, Default Romberg, Balanced)\",\n",
    "    \n",
    "    \"Extrapolation Grid (Grouped, Romberg, Default Romberg, Balanced)\",\n",
    "    \n",
    "    \"Extrapolation Grid (Grouped Optimized, Romberg, Default Romberg, Balanced)\",\n",
    "    \n",
    "    \"Extrapolation Grid (Grouped Optimized, Romberg, Lagrange Romberg)\",\n",
    "    \"Extrapolation Grid (Grouped Optimized, Romberg, Lagrange Full Romberg)\"\n",
    "]\n",
    "export_path = \"./2d/medium_hard/\"\n",
    "plot_test_case.set_import_filepath(\"../2d/medium_hard/\")\n",
    "plot_test_case.set_export_filepath(export_path)\n",
    "\n",
    "for function_name in function_names:\n",
    "    plot_test_case.plot_error_approximation(\"error_comparison_{}_2d\".format(function_name),\n",
    "                  algorithm_subset=algorithms,\n",
    "                  legend_title=None,\n",
    "                  plot_filename=\"dimensionality_{}_2d\".format(function_name))\n",
    "\n",
    "plot_test_case.export_legend(algorithms, filename=\"dimensionality_legend\")\n",
    "\n",
    "\n",
    "plot_test_case.set_import_filepath(\"../\")"
   ],
   "metadata": {
    "collapsed": false,
    "pycharm": {
     "name": "#%%\n"
    }
   }
  }
 ],
 "metadata": {
  "kernelspec": {
   "name": "pycharm-fcc6cfaa",
   "language": "python",
   "display_name": "PyCharm (bachelorarbeit)"
  },
  "language_info": {
   "codemirror_mode": {
    "name": "ipython",
    "version": 2
   },
   "file_extension": ".py",
   "mimetype": "text/x-python",
   "name": "python",
   "nbconvert_exporter": "python",
   "pygments_lexer": "ipython2",
   "version": "2.7.6"
  }
 },
 "nbformat": 4,
 "nbformat_minor": 0
}
