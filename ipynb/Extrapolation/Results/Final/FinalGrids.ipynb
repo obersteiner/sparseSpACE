{
 "cells": [
  {
   "cell_type": "code",
   "execution_count": null,
   "metadata": {
    "pycharm": {
     "is_executing": false
    }
   },
   "outputs": [],
   "source": [
    "import sparseSpACE\n",
    "from sparseSpACE.Extrapolation import SliceGrouping, SliceVersion, SliceContainerVersion\n",
    "from sparseSpACE.Grid import GlobalTrapezoidalGrid, GlobalRombergGrid\n",
    "from sparseSpACE.GridOperation import Integration\n",
    "from sparseSpACE.spatiallyAdaptiveSingleDimension2 import SpatiallyAdaptiveSingleDimensions2\n",
    "%matplotlib inline\n",
    "\n",
    "from sparseSpACE.Function import *\n",
    "from sparseSpACE.ErrorCalculator import *\n",
    "\n",
    "dim = 2\n",
    "a = np.zeros(dim)\n",
    "b = np.ones(dim)\n",
    "\n",
    "# --- Smooth functions\n",
    "\n",
    "# GenzCornerPeak: Coefficients from SGA Split Extend Paper, p. 18\n",
    "coeffs = np.array([np.float64(4 * i) for i in range(1, dim + 1)])\n",
    "f_genz_corner = GenzCornerPeak(coeffs=coeffs)\n",
    "\n",
    "# GenzProductPeak: Coefficients from SGA Split Extend Paper, p. 18\n",
    "coeffs = np.array([np.float64(4 * i) for i in range(1, dim + 1)])\n",
    "midpoint = np.ones(dim) * 0.99\n",
    "f_genz_product = GenzProductPeak(coeffs, midpoint)\n",
    "\n",
    "# GenzContinious: Coefficients from SGA Split Extend Paper, p. 18\n",
    "coeffs = np.array([np.float64(4 * i) for i in range(1, dim + 1)])\n",
    "midpoint = np.ones(dim) * 0.5\n",
    "f_genz_cont = GenzC0(coeffs, midpoint)\n",
    "\n",
    "# GenzGaussian: Coefficients should be i!!\n",
    "coeffs = np.array([np.float64(i) for i in range(1, dim + 1)])\n",
    "midpoint = np.ones(dim) * 0.99\n",
    "f_genz_gaussian = GenzGaussian(coeffs, midpoint)\n",
    "\n",
    "# FunctionExpVar: See SGA Split Extend Paper, p. 18\n",
    "f_exp_var = FunctionExpVar()\n",
    "\n",
    "# GenzOszillatory: https://www.sfu.ca/~ssurjano/oscil.html\n",
    "coeffs = np.array([np.float64(i) for i in range(1, dim + 1)])\n",
    "offset = 0.5\n",
    "f_genz_osz = GenzOszillatory(coeffs, offset)\n",
    "\n",
    "# --- Discontinious functions\n",
    "\n",
    "# GenzDiscontinious: Coefficients from SGA Split Extend Paper, p. 18\n",
    "border = np.ones(dim) * 0.2\n",
    "coeffs = np.array([np.float64(4 * i) for i in range(1, dim + 1)])\n",
    "f_genz_disc = GenzDiscontinious(border=border,coeffs=coeffs)"
   ]
  },
  {
   "cell_type": "markdown",
   "metadata": {},
   "source": [
    "# ExpVar"
   ]
  },
  {
   "cell_type": "code",
   "execution_count": null,
   "metadata": {
    "pycharm": {
     "name": "#%%\n"
    }
   },
   "outputs": [],
   "source": [
    "tol = 10 **(-4) \n",
    "max_evaluations = 10 ** 4\n",
    "\n",
    "f = f_exp_var\n",
    "f.plot(np.ones(dim)*a, np.ones(dim)*b)\n",
    "reference_solution = f.getAnalyticSolutionIntegral(a,b)\n",
    "errorOperator = ErrorCalculatorSingleDimVolumeGuided()"
   ]
  },
  {
   "cell_type": "markdown",
   "metadata": {},
   "source": [
    "### Trapezoidal Grid"
   ]
  },
  {
   "cell_type": "code",
   "execution_count": null,
   "metadata": {
    "pycharm": {
     "name": "#%%\n"
    }
   },
   "outputs": [],
   "source": [
    "grid_trapezoidal = GlobalTrapezoidalGrid(a=a, b=b, modified_basis=False, boundary=True)\n",
    "operation_trapezoidal = Integration(f=f, grid=grid_trapezoidal, dim=dim, reference_solution=reference_solution)\n",
    "adaptiveCombiInstanceSingleDim = SpatiallyAdaptiveSingleDimensions2(a, b, operation=operation_trapezoidal, rebalancing=False,\n",
    "                                                                    force_balanced_refinement_tree=False)\n",
    "\n",
    "adaptiveCombiInstanceSingleDim.performSpatiallyAdaptiv(1, 2, errorOperator,\n",
    "                                                       tol, max_evaluations=max_evaluations,\n",
    "                                                       do_plot=True)"
   ]
  },
  {
   "cell_type": "markdown",
   "metadata": {},
   "source": [
    "### Extrapolation Grid"
   ]
  },
  {
   "cell_type": "code",
   "execution_count": null,
   "metadata": {
    "pycharm": {
     "name": "#%%\n"
    }
   },
   "outputs": [],
   "source": [
    "grid = GlobalRombergGrid(a=a, b=b, modified_basis=False, boundary=True,\n",
    "                         slice_grouping=SliceGrouping.GROUPED_OPTIMIZED,\n",
    "                         slice_version=SliceVersion.ROMBERG_DEFAULT,\n",
    "                         container_version=SliceContainerVersion.ROMBERG_DEFAULT)\n",
    "\n",
    "operation = Integration(f=f, grid=grid, dim=dim, reference_solution=reference_solution)\n",
    "adaptiveCombiInstanceSingleDim = SpatiallyAdaptiveSingleDimensions2(a, b, operation=operation, rebalancing=False,\n",
    "                                                                    force_balanced_refinement_tree=False)\n",
    "\n",
    "\n",
    "adaptiveCombiInstanceSingleDim.performSpatiallyAdaptiv(1, 2, errorOperator,\n",
    "                                                       tol, max_evaluations=max_evaluations,\n",
    "                                                       do_plot=True)"
   ]
  },
  {
   "cell_type": "markdown",
   "metadata": {},
   "source": [
    "# GenzC0"
   ]
  },
  {
   "cell_type": "code",
   "execution_count": null,
   "metadata": {
    "pycharm": {
     "is_executing": false,
     "name": "#%%\n"
    }
   },
   "outputs": [],
   "source": [
    "tol = 10 **(-4) \n",
    "max_evaluations = 10 ** 4\n",
    "\n",
    "f = f_genz_cont\n",
    "f.plot(np.ones(dim)*a, np.ones(dim)*b)\n",
    "reference_solution = f.getAnalyticSolutionIntegral(a,b)\n",
    "errorOperator = ErrorCalculatorSingleDimVolumeGuided()"
   ]
  },
  {
   "cell_type": "markdown",
   "metadata": {},
   "source": [
    "### Trapezoidal Grid"
   ]
  },
  {
   "cell_type": "code",
   "execution_count": null,
   "metadata": {
    "pycharm": {
     "is_executing": true,
     "name": "#%%\n"
    }
   },
   "outputs": [],
   "source": [
    "grid_trapezoidal = GlobalTrapezoidalGrid(a=a, b=b, modified_basis=False, boundary=True)\n",
    "operation_trapezoidal = Integration(f=f, grid=grid_trapezoidal, dim=dim, reference_solution=reference_solution)\n",
    "adaptiveCombiInstanceSingleDim = SpatiallyAdaptiveSingleDimensions2(a, b, operation=operation_trapezoidal, rebalancing=False,\n",
    "                                                                    force_balanced_refinement_tree=False)\n",
    "\n",
    "adaptiveCombiInstanceSingleDim.performSpatiallyAdaptiv(1, 2, errorOperator,\n",
    "                                                       tol, max_evaluations=max_evaluations,\n",
    "                                                       do_plot=True)"
   ]
  },
  {
   "cell_type": "markdown",
   "metadata": {},
   "source": [
    "### Extrapolation Grid"
   ]
  },
  {
   "cell_type": "code",
   "execution_count": null,
   "metadata": {
    "pycharm": {
     "name": "#%%\n"
    }
   },
   "outputs": [],
   "source": [
    "grid = GlobalRombergGrid(a=a, b=b, modified_basis=False, boundary=True,\n",
    "                         slice_grouping=SliceGrouping.GROUPED_OPTIMIZED,\n",
    "                         slice_version=SliceVersion.ROMBERG_DEFAULT,\n",
    "                         container_version=SliceContainerVersion.ROMBERG_DEFAULT)\n",
    "\n",
    "operation = Integration(f=f, grid=grid, dim=dim, reference_solution=reference_solution)\n",
    "adaptiveCombiInstanceSingleDim = SpatiallyAdaptiveSingleDimensions2(a, b, operation=operation, rebalancing=False,\n",
    "                                                                    force_balanced_refinement_tree=False)\n",
    "\n",
    "\n",
    "adaptiveCombiInstanceSingleDim.performSpatiallyAdaptiv(1, 2, errorOperator,\n",
    "                                                       tol, max_evaluations=max_evaluations,\n",
    "                                                       do_plot=True)\n"
   ]
  },
  {
   "cell_type": "markdown",
   "metadata": {},
   "source": [
    "# Genz Gaussian"
   ]
  },
  {
   "cell_type": "code",
   "execution_count": null,
   "metadata": {
    "pycharm": {
     "is_executing": false,
     "name": "#%%\n"
    }
   },
   "outputs": [],
   "source": [
    "tol = 10 **(-6) \n",
    "max_evaluations = 10 ** 4\n",
    "\n",
    "f = f_genz_gaussian\n",
    "f.plot(np.ones(dim)*a, np.ones(dim)*b)\n",
    "reference_solution = f.getAnalyticSolutionIntegral(a,b)\n",
    "errorOperator = ErrorCalculatorSingleDimVolumeGuided()"
   ]
  },
  {
   "cell_type": "markdown",
   "metadata": {},
   "source": [
    "### Trapezoidal Grid"
   ]
  },
  {
   "cell_type": "code",
   "execution_count": null,
   "metadata": {
    "pycharm": {
     "name": "#%%\n"
    }
   },
   "outputs": [],
   "source": [
    "grid_trapezoidal = GlobalTrapezoidalGrid(a=a, b=b, modified_basis=False, boundary=True)\n",
    "operation_trapezoidal = Integration(f=f, grid=grid_trapezoidal, dim=dim, reference_solution=reference_solution)\n",
    "adaptiveCombiInstanceSingleDim = SpatiallyAdaptiveSingleDimensions2(a, b, operation=operation_trapezoidal, rebalancing=False,\n",
    "                                                                    force_balanced_refinement_tree=False)\n",
    "\n",
    "adaptiveCombiInstanceSingleDim.performSpatiallyAdaptiv(1, 2, errorOperator,\n",
    "                                                       tol, max_evaluations=max_evaluations,\n",
    "                                                       do_plot=True)"
   ]
  },
  {
   "cell_type": "markdown",
   "metadata": {},
   "source": [
    "### Extrapolation Grid: Unit, Romberg, Romberg default"
   ]
  },
  {
   "cell_type": "code",
   "execution_count": null,
   "metadata": {
    "pycharm": {
     "name": "#%%\n"
    }
   },
   "outputs": [],
   "source": [
    "grid = GlobalRombergGrid(a=a, b=b, modified_basis=False, boundary=True,\n",
    "                         slice_grouping=SliceGrouping.UNIT,\n",
    "                         slice_version=SliceVersion.ROMBERG_DEFAULT,\n",
    "                         container_version=SliceContainerVersion.ROMBERG_DEFAULT)\n",
    "\n",
    "operation = Integration(f=f, grid=grid, dim=dim, reference_solution=reference_solution)\n",
    "adaptiveCombiInstanceSingleDim = SpatiallyAdaptiveSingleDimensions2(a, b, operation=operation, rebalancing=False,\n",
    "                                                                    force_balanced_refinement_tree=False)\n",
    "\n",
    "adaptiveCombiInstanceSingleDim.performSpatiallyAdaptiv(1, 2, errorOperator,\n",
    "                                                       tol, max_evaluations=max_evaluations,\n",
    "                                                       do_plot=True)"
   ]
  },
  {
   "cell_type": "markdown",
   "metadata": {},
   "source": [
    "### Extrapolation Grid: Unit, Romberg, Romberg default, Balanced"
   ]
  },
  {
   "cell_type": "code",
   "execution_count": null,
   "metadata": {
    "pycharm": {
     "name": "#%%\n"
    }
   },
   "outputs": [],
   "source": [
    "grid = GlobalRombergGrid(a=a, b=b, modified_basis=False, boundary=True,\n",
    "                         slice_grouping=SliceGrouping.UNIT,\n",
    "                         slice_version=SliceVersion.ROMBERG_DEFAULT,\n",
    "                         container_version=SliceContainerVersion.ROMBERG_DEFAULT)\n",
    "\n",
    "operation = Integration(f=f, grid=grid, dim=dim, reference_solution=reference_solution)\n",
    "adaptiveCombiInstanceSingleDim = SpatiallyAdaptiveSingleDimensions2(a, b, operation=operation, rebalancing=False,\n",
    "                                                                    force_balanced_refinement_tree=True)\n",
    "\n",
    "adaptiveCombiInstanceSingleDim.performSpatiallyAdaptiv(1, 2, errorOperator,\n",
    "                                                       tol, max_evaluations=max_evaluations,\n",
    "                                                       do_plot=True)"
   ]
  },
  {
   "cell_type": "markdown",
   "metadata": {},
   "source": [
    "### Extrapolation Grid: Grouped Optimized, Romberg, Lagrange Romberg"
   ]
  },
  {
   "cell_type": "code",
   "execution_count": null,
   "metadata": {
    "pycharm": {
     "name": "#%%\n"
    }
   },
   "outputs": [],
   "source": [
    "grid = GlobalRombergGrid(a=a, b=b, modified_basis=False, boundary=True,\n",
    "                         slice_grouping=SliceGrouping.GROUPED_OPTIMIZED,\n",
    "                         slice_version=SliceVersion.ROMBERG_DEFAULT,\n",
    "                         container_version=SliceContainerVersion.LAGRANGE_ROMBERG)\n",
    "\n",
    "operation = Integration(f=f, grid=grid, dim=dim, reference_solution=reference_solution)\n",
    "adaptiveCombiInstanceSingleDim = SpatiallyAdaptiveSingleDimensions2(a, b, operation=operation, rebalancing=False,\n",
    "                                                                    force_balanced_refinement_tree=False)\n",
    "\n",
    "adaptiveCombiInstanceSingleDim.performSpatiallyAdaptiv(1, 2, errorOperator,\n",
    "                                                       tol, max_evaluations=max_evaluations,\n",
    "                                                       do_plot=True)"
   ]
  },
  {
   "cell_type": "markdown",
   "metadata": {},
   "source": [
    "# Genz Discontinuous"
   ]
  },
  {
   "cell_type": "code",
   "execution_count": null,
   "metadata": {
    "pycharm": {
     "name": "#%%\n"
    }
   },
   "outputs": [],
   "source": [
    "tol = 10 **(-3) \n",
    "max_evaluations = 10 ** 4\n",
    "\n",
    "f = f_genz_disc\n",
    "f.plot(np.ones(dim)*a, np.ones(dim)*b)\n",
    "reference_solution = f.getAnalyticSolutionIntegral(a,b)\n",
    "errorOperator = ErrorCalculatorSingleDimVolumeGuided()"
   ]
  },
  {
   "cell_type": "markdown",
   "metadata": {},
   "source": [
    "### Trapezoidal Grid"
   ]
  },
  {
   "cell_type": "code",
   "execution_count": null,
   "metadata": {
    "pycharm": {
     "name": "#%%\n"
    }
   },
   "outputs": [],
   "source": [
    "grid_trapezoidal = GlobalTrapezoidalGrid(a=a, b=b, modified_basis=False, boundary=True)\n",
    "operation_trapezoidal = Integration(f=f, grid=grid_trapezoidal, dim=dim, reference_solution=reference_solution)\n",
    "adaptiveCombiInstanceSingleDim = SpatiallyAdaptiveSingleDimensions2(a, b, operation=operation_trapezoidal, rebalancing=False,\n",
    "                                                                    force_balanced_refinement_tree=False)\n",
    "\n",
    "adaptiveCombiInstanceSingleDim.performSpatiallyAdaptiv(1, 2, errorOperator,\n",
    "                                                       tol, max_evaluations=max_evaluations,\n",
    "                                                       do_plot=True)"
   ]
  },
  {
   "cell_type": "markdown",
   "metadata": {},
   "source": [
    "### Extrapolation Grid: Grouped optimized, Romberg default"
   ]
  },
  {
   "cell_type": "code",
   "execution_count": null,
   "metadata": {
    "pycharm": {
     "name": "#%%\n"
    }
   },
   "outputs": [],
   "source": [
    "grid = GlobalRombergGrid(a=a, b=b, modified_basis=False, boundary=True,\n",
    "                         slice_grouping=SliceGrouping.GROUPED_OPTIMIZED,\n",
    "                         slice_version=SliceVersion.ROMBERG_DEFAULT,\n",
    "                         container_version=SliceContainerVersion.ROMBERG_DEFAULT)\n",
    "\n",
    "operation = Integration(f=f, grid=grid, dim=dim, reference_solution=reference_solution)\n",
    "adaptiveCombiInstanceSingleDim = SpatiallyAdaptiveSingleDimensions2(a, b, operation=operation, rebalancing=False,\n",
    "                                                                    force_balanced_refinement_tree=False)\n",
    "\n",
    "\n",
    "adaptiveCombiInstanceSingleDim.performSpatiallyAdaptiv(1, 2, errorOperator,\n",
    "                                                       tol, max_evaluations=max_evaluations,\n",
    "                                                       do_plot=True)"
   ]
  },
  {
   "cell_type": "markdown",
   "metadata": {},
   "source": [
    "### Extrapolation Grid: Grouped optimized, Romberg default, Balanced"
   ]
  },
  {
   "cell_type": "code",
   "execution_count": null,
   "metadata": {
    "pycharm": {
     "name": "#%%\n"
    }
   },
   "outputs": [],
   "source": [
    "grid = GlobalRombergGrid(a=a, b=b, modified_basis=False, boundary=True,\n",
    "                         slice_grouping=SliceGrouping.GROUPED_OPTIMIZED,\n",
    "                         slice_version=SliceVersion.ROMBERG_DEFAULT,\n",
    "                         container_version=SliceContainerVersion.ROMBERG_DEFAULT)\n",
    "\n",
    "operation = Integration(f=f, grid=grid, dim=dim, reference_solution=reference_solution)\n",
    "adaptiveCombiInstanceSingleDim = SpatiallyAdaptiveSingleDimensions2(a, b, operation=operation, rebalancing=False,\n",
    "                                                                    force_balanced_refinement_tree=True)\n",
    "\n",
    "\n",
    "adaptiveCombiInstanceSingleDim.performSpatiallyAdaptiv(1, 2, errorOperator,\n",
    "                                                       tol, max_evaluations=max_evaluations,\n",
    "                                                       do_plot=True)"
   ]
  }
 ],
 "metadata": {
  "kernelspec": {
   "display_name": "PyCharm (bachelorarbeit)",
   "language": "python",
   "name": "pycharm-fcc6cfaa"
  },
  "language_info": {
   "codemirror_mode": {
    "name": "ipython",
    "version": 3
   },
   "file_extension": ".py",
   "mimetype": "text/x-python",
   "name": "python",
   "nbconvert_exporter": "python",
   "pygments_lexer": "ipython3",
   "version": "3.6.9"
  }
 },
 "nbformat": 4,
 "nbformat_minor": 1
}